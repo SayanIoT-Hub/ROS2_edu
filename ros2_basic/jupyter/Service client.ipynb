{
 "cells": [
  {
   "cell_type": "code",
   "execution_count": 2,
   "id": "22d62e75",
   "metadata": {},
   "outputs": [
    {
     "name": "stderr",
     "output_type": "stream",
     "text": [
      "1673694748.034423 [0]    python3: using network interface wlp2s0 (udp/192.168.0.19) selected arbitrarily from: wlp2s0, docker0\n"
     ]
    }
   ],
   "source": [
    "import rclpy as rp\n",
    "from turtlesim.srv import TeleportAbsolute\n",
    "\n",
    "rp.init()\n",
    "test_node = rp.create_node('client_test')"
   ]
  },
  {
   "cell_type": "code",
   "execution_count": 3,
   "id": "023f430b",
   "metadata": {},
   "outputs": [],
   "source": [
    "service_name = '/turtle1/teleport_absolute'\n",
    "cli = test_node.create_client(TeleportAbsolute, service_name)"
   ]
  },
  {
   "cell_type": "code",
   "execution_count": 4,
   "id": "80058a8e",
   "metadata": {},
   "outputs": [],
   "source": [
    "req = TeleportAbsolute.Request()"
   ]
  },
  {
   "cell_type": "code",
   "execution_count": 5,
   "id": "493b77fc",
   "metadata": {},
   "outputs": [
    {
     "name": "stdout",
     "output_type": "stream",
     "text": [
      "turtlesim.srv.TeleportAbsolute_Request(x=0.0, y=0.0, theta=0.0)\n"
     ]
    }
   ],
   "source": [
    "print(req)"
   ]
  },
  {
   "cell_type": "code",
   "execution_count": 6,
   "id": "6e5d818d",
   "metadata": {},
   "outputs": [
    {
     "data": {
      "text/plain": [
       "turtlesim.srv.TeleportAbsolute_Request(x=1.0, y=0.0, theta=3.14)"
      ]
     },
     "execution_count": 6,
     "metadata": {},
     "output_type": "execute_result"
    }
   ],
   "source": [
    "req.x = 1.\n",
    "req.theta = 3.14\n",
    "req"
   ]
  },
  {
   "cell_type": "code",
   "execution_count": 7,
   "id": "2aed6a00",
   "metadata": {},
   "outputs": [
    {
     "data": {
      "text/plain": [
       "<rclpy.task.Future at 0x7f330c1b80d0>"
      ]
     },
     "execution_count": 7,
     "metadata": {},
     "output_type": "execute_result"
    }
   ],
   "source": [
    "cli.call_async(req)"
   ]
  },
  {
   "cell_type": "code",
   "execution_count": 8,
   "id": "895e3679",
   "metadata": {},
   "outputs": [],
   "source": [
    "req.y = 8.\n",
    "req.x = 5.\n",
    "cli.call_async(req)\n",
    "rp.spin_once(test_node)"
   ]
  },
  {
   "cell_type": "code",
   "execution_count": null,
   "id": "2e2bfd0e",
   "metadata": {},
   "outputs": [],
   "source": []
  },
  {
   "cell_type": "code",
   "execution_count": null,
   "id": "54294d6f",
   "metadata": {},
   "outputs": [],
   "source": []
  },
  {
   "cell_type": "code",
   "execution_count": null,
   "id": "8f38239f",
   "metadata": {},
   "outputs": [],
   "source": []
  },
  {
   "cell_type": "code",
   "execution_count": null,
   "id": "0dd5c975",
   "metadata": {},
   "outputs": [],
   "source": []
  }
 ],
 "metadata": {
  "kernelspec": {
   "display_name": "Python 3 (ipykernel)",
   "language": "python",
   "name": "python3"
  },
  "language_info": {
   "codemirror_mode": {
    "name": "ipython",
    "version": 3
   },
   "file_extension": ".py",
   "mimetype": "text/x-python",
   "name": "python",
   "nbconvert_exporter": "python",
   "pygments_lexer": "ipython3",
   "version": "3.8.10"
  }
 },
 "nbformat": 4,
 "nbformat_minor": 5
}
